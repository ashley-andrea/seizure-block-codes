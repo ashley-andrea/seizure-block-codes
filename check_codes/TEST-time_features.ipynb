{
 "cells": [
  {
   "cell_type": "code",
   "execution_count": 1,
   "id": "fe7f0f51",
   "metadata": {},
   "outputs": [
    {
     "data": {
      "text/plain": [
       "<module 'ectopic_beats_filtering' from '/Users/pietrosaveri/Desktop/Pietro/•StartUps/Seizury/• src_blocks/check_codes/../preprocessing-block/ectopic_beats_filtering.py'>"
      ]
     },
     "execution_count": 1,
     "metadata": {},
     "output_type": "execute_result"
    }
   ],
   "source": [
    "import sys\n",
    "from importlib import reload\n",
    "import matplotlib.pyplot as plt\n",
    "import numpy as np\n",
    "\n",
    "sys.path.append(\"../file_loader\")\n",
    "sys.path.append(\"../preprocessing-block\")\n",
    "\n",
    "import ecg_file_loader\n",
    "from ecg_file_loader import ECGFileLoader\n",
    "\n",
    "import rpeaks_finder\n",
    "from rpeaks_finder import *\n",
    "\n",
    "import ectopic_beats_filtering\n",
    "from ectopic_beats_filtering import *\n",
    "\n",
    "reload(ecg_file_loader)\n",
    "reload(rpeaks_finder)\n",
    "reload(ectopic_beats_filtering)"
   ]
  },
  {
   "cell_type": "code",
   "execution_count": 2,
   "id": "69e96f81",
   "metadata": {},
   "outputs": [],
   "source": [
    "loader = ECGFileLoader(use_s3=False)"
   ]
  },
  {
   "cell_type": "code",
   "execution_count": 3,
   "id": "079d7112",
   "metadata": {},
   "outputs": [
    {
     "name": "stderr",
     "output_type": "stream",
     "text": [
      "INFO:rpeaks_finder:Processing R-peaks detection for 1 patients: ['sub-001']\n",
      "INFO:rpeaks_finder:Loading data for patient sub-001\n",
      "INFO:ecg_file_loader:Processing sub-001 run 01\n",
      "INFO:ecg_file_loader:Processing sub-001 run 02\n",
      "INFO:ecg_file_loader:Processing sub-001 run 03\n",
      "INFO:ecg_file_loader:Processing sub-001 run 04\n",
      "INFO:ecg_file_loader:Processing sub-001 run 05\n",
      "INFO:ecg_file_loader:Processing sub-001 run 06\n",
      "INFO:ecg_file_loader:Processing sub-001 run 07\n",
      "INFO:ecg_file_loader:Processing sub-001 run 08\n",
      "INFO:ecg_file_loader:Processing sub-001 run 09\n",
      "INFO:rpeaks_finder:Processing sub-001 run 01\n",
      "INFO:rpeaks_finder:ECG signal shape: (16721664,), sampling rate: 256.0 Hz\n",
      "INFO:rpeaks_finder:Successfully processed sub-001 run 01: 72450 R-peaks detected\n",
      "INFO:rpeaks_finder:Processing sub-001 run 02\n",
      "INFO:rpeaks_finder:ECG signal shape: (5072896,), sampling rate: 256.0 Hz\n",
      "INFO:rpeaks_finder:Successfully processed sub-001 run 02: 22104 R-peaks detected\n",
      "INFO:rpeaks_finder:Processing sub-001 run 03\n",
      "INFO:rpeaks_finder:ECG signal shape: (16634624,), sampling rate: 256.0 Hz\n",
      "INFO:rpeaks_finder:Successfully processed sub-001 run 03: 76211 R-peaks detected\n",
      "INFO:rpeaks_finder:Processing sub-001 run 04\n",
      "INFO:rpeaks_finder:ECG signal shape: (5429504,), sampling rate: 256.0 Hz\n",
      "INFO:rpeaks_finder:Successfully processed sub-001 run 04: 24882 R-peaks detected\n",
      "INFO:rpeaks_finder:Processing sub-001 run 05\n",
      "INFO:rpeaks_finder:ECG signal shape: (16002816,), sampling rate: 256.0 Hz\n",
      "INFO:rpeaks_finder:Successfully processed sub-001 run 05: 69435 R-peaks detected\n",
      "INFO:rpeaks_finder:Processing sub-001 run 06\n",
      "INFO:rpeaks_finder:ECG signal shape: (5169152,), sampling rate: 256.0 Hz\n",
      "INFO:rpeaks_finder:Successfully processed sub-001 run 06: 22642 R-peaks detected\n",
      "INFO:rpeaks_finder:Processing sub-001 run 07\n",
      "INFO:rpeaks_finder:ECG signal shape: (7556608,), sampling rate: 256.0 Hz\n",
      "INFO:rpeaks_finder:Successfully processed sub-001 run 07: 36929 R-peaks detected\n",
      "INFO:rpeaks_finder:Processing sub-001 run 08\n",
      "INFO:rpeaks_finder:ECG signal shape: (13178368,), sampling rate: 256.0 Hz\n",
      "INFO:rpeaks_finder:Successfully processed sub-001 run 08: 62081 R-peaks detected\n",
      "INFO:rpeaks_finder:Processing sub-001 run 09\n",
      "INFO:rpeaks_finder:ECG signal shape: (12456192,), sampling rate: 256.0 Hz\n",
      "INFO:rpeaks_finder:Successfully processed sub-001 run 09: 56390 R-peaks detected\n",
      "INFO:rpeaks_finder:Completed R-peaks detection processing for 9 runs\n",
      "INFO:rpeaks_finder:Completed processing for patient sub-001: 9 runs\n"
     ]
    }
   ],
   "source": [
    "processed_data = process_all_patients_rpeaks(loader, ['sub-001'])"
   ]
  },
  {
   "cell_type": "code",
   "execution_count": 4,
   "id": "5b28b822",
   "metadata": {},
   "outputs": [
    {
     "name": "stdout",
     "output_type": "stream",
     "text": [
      "\n",
      "--------------------------------------------------\n",
      "Processing session 01 for patient sub-001\n",
      "--------------------------------------------------\n",
      "Initial state: 72449 RRs, 72450 timestamps.\n",
      "--- Starting Ectopic Beat Filtering ---\n",
      "Found 57 RR intervals > 1.3s. Deleting them to create gaps.\n",
      "Found short RR interval (0.289s) at index 49661. Analyzing merge options...\n",
      "  > No merge met all conditions. Deleting the single short RR interval as an artifact.\n",
      "Found short RR interval (0.293s) at index 31502. Analyzing merge options...\n",
      "  > Right merge successful. New RR: 0.648s.\n",
      "Found short RR interval (0.273s) at index 31486. Analyzing merge options...\n",
      "  > No merge met all conditions. Deleting the single short RR interval as an artifact.\n",
      "Found short RR interval (0.270s) at index 16261. Analyzing merge options...\n",
      "  > Right merge successful. New RR: 1.078s.\n",
      "Found short RR interval (0.289s) at index 16227. Analyzing merge options...\n",
      "  > No merge met all conditions. Deleting the single short RR interval as an artifact.\n",
      "Found short RR interval (0.277s) at index 15844. Analyzing merge options...\n",
      "  > Left merge successful. New RR: 0.637s.\n",
      "Found short RR interval (0.293s) at index 11976. Analyzing merge options...\n",
      "  > Right merge successful. New RR: 0.785s.\n",
      "--- Filtering finished. Final series has 72385 beats. ---\n",
      "\n",
      "--- Starting Gap Imputation ---\n",
      "Found a 2.38s gap. The RR interval at index 10022 will be replaced.\n",
      "  > Replacing 1 large RR with 3 new beats.\n",
      "Found a 2.13s gap. The RR interval at index 10039 will be replaced.\n",
      "  > Replacing 1 large RR with 3 new beats.\n",
      "Found a 2.25s gap. The RR interval at index 10481 will be replaced.\n",
      "  > Replacing 1 large RR with 3 new beats.\n",
      "Found a 4.14s gap. The RR interval at index 11975 will be replaced.\n",
      "  > Replacing 1 large RR with 5 new beats.\n",
      "Found a 3.23s gap. The RR interval at index 13575 will be replaced.\n",
      "  > Replacing 1 large RR with 4 new beats.\n",
      "Found a 2.00s gap. The RR interval at index 15799 will be replaced.\n",
      "  > Replacing 1 large RR with 3 new beats.\n",
      "Found a 1.68s gap. The RR interval at index 16049 will be replaced.\n",
      "  > Replacing 1 large RR with 2 new beats.\n",
      "Found a 2.71s gap. The RR interval at index 16221 will be replaced.\n",
      "  > Replacing 1 large RR with 3 new beats.\n",
      "Found a 3.18s gap. The RR interval at index 16224 will be replaced.\n",
      "  > Replacing 1 large RR with 4 new beats.\n",
      "Found a 2.77s gap. The RR interval at index 16228 will be replaced.\n",
      "  > Replacing 1 large RR with 3 new beats.\n",
      "Found a 3.13s gap. The RR interval at index 16231 will be replaced.\n",
      "  > Replacing 1 large RR with 3 new beats.\n",
      "Found a 2.71s gap. The RR interval at index 16234 will be replaced.\n",
      "  > Replacing 1 large RR with 3 new beats.\n",
      "Found a 2.91s gap. The RR interval at index 16237 will be replaced.\n",
      "  > Replacing 1 large RR with 3 new beats.\n",
      "Found a 3.21s gap. The RR interval at index 16240 will be replaced.\n",
      "  > Replacing 1 large RR with 4 new beats.\n",
      "Found a 2.80s gap. The RR interval at index 16244 will be replaced.\n",
      "  > Replacing 1 large RR with 3 new beats.\n",
      "Found a 3.10s gap. The RR interval at index 16247 will be replaced.\n",
      "  > Replacing 1 large RR with 3 new beats.\n",
      "Found a 2.81s gap. The RR interval at index 16250 will be replaced.\n",
      "  > Replacing 1 large RR with 3 new beats.\n",
      "Found a 2.84s gap. The RR interval at index 16253 will be replaced.\n",
      "  > Replacing 1 large RR with 3 new beats.\n",
      "Found a 2.45s gap. The RR interval at index 16256 will be replaced.\n",
      "  > Replacing 1 large RR with 3 new beats.\n",
      "Found a 2.50s gap. The RR interval at index 16264 will be replaced.\n",
      "  > Replacing 1 large RR with 3 new beats.\n",
      "Found a 2.51s gap. The RR interval at index 16267 will be replaced.\n",
      "  > Replacing 1 large RR with 3 new beats.\n",
      "Found a 2.25s gap. The RR interval at index 16276 will be replaced.\n",
      "  > Replacing 1 large RR with 3 new beats.\n",
      "Found a 2.25s gap. The RR interval at index 16281 will be replaced.\n",
      "  > Replacing 1 large RR with 2 new beats.\n",
      "Found a 2.51s gap. The RR interval at index 16286 will be replaced.\n",
      "  > Replacing 1 large RR with 3 new beats.\n",
      "Found a 3.00s gap. The RR interval at index 16309 will be replaced.\n",
      "  > Replacing 1 large RR with 4 new beats.\n",
      "Found a 5.39s gap. The RR interval at index 16313 will be replaced.\n",
      "  > Replacing 1 large RR with 7 new beats.\n",
      "Found a 2.20s gap. The RR interval at index 21396 will be replaced.\n",
      "  > Replacing 1 large RR with 3 new beats.\n",
      "Found a 2.29s gap. The RR interval at index 22964 will be replaced.\n",
      "  > Replacing 1 large RR with 3 new beats.\n",
      "Found a 2.12s gap. The RR interval at index 24234 will be replaced.\n",
      "  > Replacing 1 large RR with 3 new beats.\n",
      "Found a 2.25s gap. The RR interval at index 24454 will be replaced.\n",
      "  > Replacing 1 large RR with 3 new beats.\n",
      "Found a 3.95s gap. The RR interval at index 24563 will be replaced.\n",
      "  > Replacing 1 large RR with 5 new beats.\n",
      "Found a 2.47s gap. The RR interval at index 24587 will be replaced.\n",
      "  > Replacing 1 large RR with 3 new beats.\n",
      "Found a 3.10s gap. The RR interval at index 24661 will be replaced.\n",
      "  > Replacing 1 large RR with 4 new beats.\n",
      "Found a 2.42s gap. The RR interval at index 26038 will be replaced.\n",
      "  > Replacing 1 large RR with 3 new beats.\n",
      "Found a 2.36s gap. The RR interval at index 26557 will be replaced.\n",
      "  > Replacing 1 large RR with 3 new beats.\n",
      "Found a 3.06s gap. The RR interval at index 28048 will be replaced.\n",
      "  > Replacing 1 large RR with 5 new beats.\n",
      "Found a 2.13s gap. The RR interval at index 28053 will be replaced.\n",
      "  > Replacing 1 large RR with 3 new beats.\n",
      "Found a 2.32s gap. The RR interval at index 29913 will be replaced.\n",
      "  > Replacing 1 large RR with 3 new beats.\n",
      "Found a 2.54s gap. The RR interval at index 30107 will be replaced.\n",
      "  > Replacing 1 large RR with 3 new beats.\n",
      "Found a 2.38s gap. The RR interval at index 30332 will be replaced.\n",
      "  > Replacing 1 large RR with 3 new beats.\n",
      "Found a 2.52s gap. The RR interval at index 30980 will be replaced.\n",
      "  > Replacing 1 large RR with 3 new beats.\n",
      "Found a 2.00s gap. The RR interval at index 31436 will be replaced.\n",
      "  > Replacing 1 large RR with 3 new beats.\n",
      "Found a 1.97s gap. The RR interval at index 31606 will be replaced.\n",
      "  > Replacing 1 large RR with 3 new beats.\n",
      "Found a 2.04s gap. The RR interval at index 31626 will be replaced.\n",
      "  > Replacing 1 large RR with 3 new beats.\n",
      "Found a 2.09s gap. The RR interval at index 31693 will be replaced.\n",
      "  > Replacing 1 large RR with 3 new beats.\n",
      "Found a 2.14s gap. The RR interval at index 31818 will be replaced.\n",
      "  > Replacing 1 large RR with 3 new beats.\n",
      "Found a 2.11s gap. The RR interval at index 31855 will be replaced.\n",
      "  > Replacing 1 large RR with 3 new beats.\n",
      "Found a 2.82s gap. The RR interval at index 31882 will be replaced.\n",
      "  > Replacing 1 large RR with 4 new beats.\n",
      "Found a 2.56s gap. The RR interval at index 33480 will be replaced.\n",
      "  > Replacing 1 large RR with 3 new beats.\n",
      "Found a 2.36s gap. The RR interval at index 33753 will be replaced.\n",
      "  > Replacing 1 large RR with 3 new beats.\n",
      "Found a 1.99s gap. The RR interval at index 49769 will be replaced.\n",
      "  > Replacing 1 large RR with 2 new beats.\n",
      "Found a 2.89s gap. The RR interval at index 58941 will be replaced.\n",
      "  > Replacing 1 large RR with 3 new beats.\n",
      "Found a 2.29s gap. The RR interval at index 68582 will be replaced.\n",
      "  > Replacing 1 large RR with 3 new beats.\n",
      "Found a 2.74s gap. The RR interval at index 72050 will be replaced.\n",
      "  > Replacing 1 large RR with 3 new beats.\n",
      "--- Gap Imputation finished. ---\n",
      "\n",
      "--- Verifying final output integrity ---\n",
      "Final state: 72506 RRs, 72507 timestamps.\n",
      "Is structure (n, n+1) preserved? Yes\n",
      "Sample check at index 5:\n",
      "  Stored RR     = 0.8164 s\n",
      "  Calculated RR = 0.8164 s (from ts[6] - ts[5])\n",
      "  Sample check passed.\n"
     ]
    }
   ],
   "source": [
    "processed_rr = process_dvc_for_session(processed_data['sub-001'][0], min_rr_s=0.3, max_rr_s=1.3)"
   ]
  },
  {
   "cell_type": "code",
   "execution_count": 5,
   "id": "852947a3",
   "metadata": {},
   "outputs": [],
   "source": [
    "rr_intervals = processed_rr['dvc_rr_intervals_ms']\n",
    "timestamps = processed_rr['dvc_rpeak_times_s']"
   ]
  },
  {
   "cell_type": "code",
   "execution_count": 16,
   "id": "a1a8400d",
   "metadata": {},
   "outputs": [
    {
     "name": "stdout",
     "output_type": "stream",
     "text": [
      "72506 72506\n"
     ]
    }
   ],
   "source": [
    "print(len(rr_intervals), len(timestamps[1:]))"
   ]
  },
  {
   "cell_type": "code",
   "execution_count": 37,
   "id": "d47a7ee5",
   "metadata": {},
   "outputs": [
    {
     "name": "stderr",
     "output_type": "stream",
     "text": [
      "/Library/Frameworks/Python.framework/Versions/3.11/lib/python3.11/site-packages/pyhrv/time_domain.py:576: UserWarning: CAUTION: The TINN computation is currently providing incorrect results in the most cases due to a malfunction of the function. This function will be reviewed over the next updates to solve this issue\n",
      "  warnings.warn('CAUTION: The TINN computation is currently providing incorrect results in the most cases due to a '\n"
     ]
    },
    {
     "data": {
      "image/png": "[encoded data removed]",
      "text/plain": [
       "<Figure size 600x600 with 1 Axes>"
      ]
     },
     "metadata": {},
     "output_type": "display_data"
    }
   ],
   "source": [
    "import pyhrv\n",
    "import pyhrv.time_domain as td\n",
    "\n",
    "results = td.time_domain(rr_intervals)"
   ]
  },
  {
   "cell_type": "code",
   "execution_count": 38,
   "id": "4e250847",
   "metadata": {},
   "outputs": [
    {
     "data": {
      "text/plain": [
       "ReturnTuple(nni_counter=72506, nni_mean=900.8188223216009, nni_min=300.78125, nni_max=1281.25, hr_mean=67.21942162954706, hr_min=46.829268292682926, hr_max=199.4805194805195, hr_std=6.843016245975114, nni_diff_mean=22.327949132064308, nni_diff_min=0, nni_diff_max=921, sdnn=83.1034264484127, sdnn_index=33.5247358746849, sdann=73.67596725420566, rmssd=34.13911017714668, sdsd=25.825389250296475, nn50=5066, pnn50=6.987104337631887, nn20=30507, pnn20=42.07571891593683, nni_histogram=<Figure size 600x600 with 1 Axes>, tinn_n=0, tinn_m=0, tinn=0, tri_index=26.01578758521708)"
      ]
     },
     "execution_count": 38,
     "metadata": {},
     "output_type": "execute_result"
    }
   ],
   "source": [
    "results"
   ]
  },
  {
   "cell_type": "code",
   "execution_count": 18,
   "id": "2c34a2ae",
   "metadata": {},
   "outputs": [],
   "source": [
    "from pyhrv.time_domain import time_domain\n",
    "import pandas as pd\n",
    "\n",
    "df = pd.DataFrame({'time': timestamps[1:], 'rr': rr_intervals})"
   ]
  },
  {
   "cell_type": "code",
   "execution_count": 23,
   "id": "3aa829f0",
   "metadata": {},
   "outputs": [],
   "source": [
    "from pyhrv.time_domain import time_domain\n",
    "\n",
    "def compute_hrv_time_windows(df, window_minutes=5):\n",
    "    window_seconds = window_minutes * 60\n",
    "    start_time = df['time'].min()\n",
    "    end_time = df['time'].max()\n",
    "    \n",
    "    results = []\n",
    "    \n",
    "    current_start = start_time\n",
    "    while current_start + window_seconds <= end_time:\n",
    "        current_end = current_start + window_seconds\n",
    "        # Select RR intervals within this window\n",
    "        window_rr = df[(df['time'] >= current_start) & (df['time'] < current_end)]['rr'].values\n",
    "        \n",
    "        if len(window_rr) > 1:  # need at least 2 intervals\n",
    "            # Compute HRV features\n",
    "            features = time_domain(rr_intervals=window_rr)\n",
    "            features['start_time'] = current_start\n",
    "            features['end_time'] = current_end\n",
    "            results.append(features)\n",
    "        \n",
    "        # Move the window forward (non-overlapping)\n",
    "        current_start += window_seconds\n",
    "    \n",
    "    return pd.DataFrame(results)\n"
   ]
  },
  {
   "cell_type": "code",
   "execution_count": 24,
   "id": "81ac078e",
   "metadata": {},
   "outputs": [
    {
     "ename": "TypeError",
     "evalue": "time_domain() got an unexpected keyword argument 'rr_intervals'",
     "output_type": "error",
     "traceback": [
      "\u001b[0;31m---------------------------------------------------------------------------\u001b[0m",
      "\u001b[0;31mTypeError\u001b[0m                                 Traceback (most recent call last)",
      "Cell \u001b[0;32mIn[24], line 1\u001b[0m\n\u001b[0;32m----> 1\u001b[0m hrv_df \u001b[38;5;241m=\u001b[39m \u001b[43mcompute_hrv_time_windows\u001b[49m\u001b[43m(\u001b[49m\u001b[43mdf\u001b[49m\u001b[43m,\u001b[49m\u001b[43m \u001b[49m\u001b[43mwindow_minutes\u001b[49m\u001b[38;5;241;43m=\u001b[39;49m\u001b[38;5;241;43m5\u001b[39;49m\u001b[43m)\u001b[49m\n",
      "Cell \u001b[0;32mIn[23], line 18\u001b[0m, in \u001b[0;36mcompute_hrv_time_windows\u001b[0;34m(df, window_minutes)\u001b[0m\n\u001b[1;32m     14\u001b[0m window_rr \u001b[38;5;241m=\u001b[39m df[(df[\u001b[38;5;124m'\u001b[39m\u001b[38;5;124mtime\u001b[39m\u001b[38;5;124m'\u001b[39m] \u001b[38;5;241m>\u001b[39m\u001b[38;5;241m=\u001b[39m current_start) \u001b[38;5;241m&\u001b[39m (df[\u001b[38;5;124m'\u001b[39m\u001b[38;5;124mtime\u001b[39m\u001b[38;5;124m'\u001b[39m] \u001b[38;5;241m<\u001b[39m current_end)][\u001b[38;5;124m'\u001b[39m\u001b[38;5;124mrr\u001b[39m\u001b[38;5;124m'\u001b[39m]\u001b[38;5;241m.\u001b[39mvalues\n\u001b[1;32m     16\u001b[0m \u001b[38;5;28;01mif\u001b[39;00m \u001b[38;5;28mlen\u001b[39m(window_rr) \u001b[38;5;241m>\u001b[39m \u001b[38;5;241m1\u001b[39m:  \u001b[38;5;66;03m# need at least 2 intervals\u001b[39;00m\n\u001b[1;32m     17\u001b[0m     \u001b[38;5;66;03m# Compute HRV features\u001b[39;00m\n\u001b[0;32m---> 18\u001b[0m     features \u001b[38;5;241m=\u001b[39m \u001b[43mtime_domain\u001b[49m\u001b[43m(\u001b[49m\u001b[43mrr_intervals\u001b[49m\u001b[38;5;241;43m=\u001b[39;49m\u001b[43mwindow_rr\u001b[49m\u001b[43m)\u001b[49m\n\u001b[1;32m     19\u001b[0m     features[\u001b[38;5;124m'\u001b[39m\u001b[38;5;124mstart_time\u001b[39m\u001b[38;5;124m'\u001b[39m] \u001b[38;5;241m=\u001b[39m current_start\n\u001b[1;32m     20\u001b[0m     features[\u001b[38;5;124m'\u001b[39m\u001b[38;5;124mend_time\u001b[39m\u001b[38;5;124m'\u001b[39m] \u001b[38;5;241m=\u001b[39m current_end\n",
      "\u001b[0;31mTypeError\u001b[0m: time_domain() got an unexpected keyword argument 'rr_intervals'"
     ]
    }
   ],
   "source": [
    "hrv_df = compute_hrv_time_windows(df, window_minutes=5)"
   ]
  },
  {
   "cell_type": "code",
   "execution_count": null,
   "id": "5acc52ec",
   "metadata": {},
   "outputs": [],
   "source": []
  }
 ],
 "metadata": {
  "kernelspec": {
   "display_name": "Python 3",
   "language": "python",
   "name": "python3"
  },
  "language_info": {
   "codemirror_mode": {
    "name": "ipython",
    "version": 3
   },
   "file_extension": ".py",
   "mimetype": "text/x-python",
   "name": "python",
   "nbconvert_exporter": "python",
   "pygments_lexer": "ipython3",
   "version": "3.11.4"
  }
 },
 "nbformat": 4,
 "nbformat_minor": 5
}
