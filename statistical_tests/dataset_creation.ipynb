{
 "cells": [
  {
   "cell_type": "code",
   "execution_count": 1,
   "id": "0e54c2d6",
   "metadata": {},
   "outputs": [
    {
     "data": {
      "text/plain": [
       "<module 'nonlinear_features' from '/Users/pietrosaveri/Desktop/Pietro/•StartUps/Seizury/• src_blocks/statistical_tests/../features_calculation/nonlinear_features.py'>"
      ]
     },
     "execution_count": 1,
     "metadata": {},
     "output_type": "execute_result"
    }
   ],
   "source": [
    "import sys\n",
    "from importlib import reload\n",
    "import matplotlib.pyplot as plt\n",
    "import numpy as np\n",
    "\n",
    "sys.path.append(\"../file_loader\")\n",
    "sys.path.append(\"../preprocessing-block\")\n",
    "sys.path.append(\"../features_calculation\")\n",
    "\n",
    "\n",
    "import ecg_file_loader\n",
    "from ecg_file_loader import ECGFileLoader\n",
    "\n",
    "import rpeaks_finder\n",
    "from rpeaks_finder import *\n",
    "\n",
    "import ectopic_beats_filtering\n",
    "from ectopic_beats_filtering import *\n",
    "\n",
    "import time_features\n",
    "from time_features import *\n",
    "\n",
    "import frequency_features\n",
    "from frequency_features import *\n",
    "\n",
    "import nonlinear_features\n",
    "from nonlinear_features import *\n",
    "\n",
    "reload(ecg_file_loader)\n",
    "reload(rpeaks_finder)\n",
    "reload(ectopic_beats_filtering)\n",
    "reload(time_features)\n",
    "reload(frequency_features)\n",
    "reload(nonlinear_features)"
   ]
  },
  {
   "cell_type": "code",
   "execution_count": null,
   "id": "10edb98f",
   "metadata": {},
   "outputs": [],
   "source": [
    "loader = ECGFileLoader(use_s3=False)"
   ]
  },
  {
   "cell_type": "code",
   "execution_count": null,
   "id": "09a74619",
   "metadata": {},
   "outputs": [],
   "source": [
    "processed_data = process_all_patients_rpeaks(loader, ['sub-001'])"
   ]
  },
  {
   "cell_type": "code",
   "execution_count": null,
   "id": "e65c1443",
   "metadata": {},
   "outputs": [],
   "source": [
    "processed_rr = process_dvc_for_session(processed_data['sub-001'][0], min_rr_s=0.3, max_rr_s=1.3)"
   ]
  },
  {
   "cell_type": "code",
   "execution_count": null,
   "id": "813fbe32",
   "metadata": {},
   "outputs": [],
   "source": [
    "rr_peaks = processed_rr['dvc_rpeak_times_s']\n",
    "fs = processed_rr['sampling_rate']"
   ]
  },
  {
   "cell_type": "code",
   "execution_count": null,
   "id": "7ee85408",
   "metadata": {},
   "outputs": [],
   "source": []
  }
 ],
 "metadata": {
  "kernelspec": {
   "display_name": "Python 3",
   "language": "python",
   "name": "python3"
  },
  "language_info": {
   "codemirror_mode": {
    "name": "ipython",
    "version": 3
   },
   "file_extension": ".py",
   "mimetype": "text/x-python",
   "name": "python",
   "nbconvert_exporter": "python",
   "pygments_lexer": "ipython3",
   "version": "3.11.4"
  }
 },
 "nbformat": 4,
 "nbformat_minor": 5
}
